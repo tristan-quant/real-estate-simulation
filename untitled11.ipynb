{
  "nbformat": 4,
  "nbformat_minor": 0,
  "metadata": {
    "colab": {
      "provenance": [],
      "authorship_tag": "ABX9TyMdRnNwYxRowVcpXXJSzd70",
      "include_colab_link": true
    },
    "kernelspec": {
      "name": "python3",
      "display_name": "Python 3"
    },
    "language_info": {
      "name": "python"
    }
  },
  "cells": [
    {
      "cell_type": "markdown",
      "metadata": {
        "id": "view-in-github",
        "colab_type": "text"
      },
      "source": [
        "<a href=\"https://colab.research.google.com/github/tristan-quant/real-estate-simulation/blob/main/untitled11.ipynb\" target=\"_parent\"><img src=\"https://colab.research.google.com/assets/colab-badge.svg\" alt=\"Open In Colab\"/></a>"
      ]
    },
    {
      "cell_type": "code",
      "source": [
        "!pip install numpy-financial\n",
        "import numpy as np\n",
        "import numpy_financial as npf\n",
        "import pandas as pd\n",
        "\n",
        "# ===== 입력값 =====\n",
        "매입가 = 320_000_000\n",
        "LTV목록 = [0.6, 0.7]\n",
        "CapRate목록 = [0.03, 0.04]\n",
        "대출이자율 = 0.02\n",
        "대출기간 = 25\n",
        "보유기간 = 10\n",
        "법인세율 = 0.3\n",
        "NOI성장률 = 0.03\n",
        "ExitCapRate조정 = -0.005  # 매입 CapRate보다 낮게 설정\n",
        "\n",
        "# ===== 결과 저장용 리스트 =====\n",
        "결과 = []\n",
        "\n",
        "# ===== 시뮬레이션 반복 =====\n",
        "for LTV in LTV목록:\n",
        "    for CapRate in CapRate목록:\n",
        "        대출금 = 매입가 * LTV\n",
        "        자기자본 = 매입가 - 대출금\n",
        "        NOI = 매입가 * CapRate\n",
        "        ExitCapRate = CapRate + ExitCapRate조정\n",
        "\n",
        "        # 원리금 균등상환\n",
        "        r = 대출이자율\n",
        "        n = 대출기간\n",
        "        연간상환액 = 대출금 * (r * (1 + r)**n) / ((1 + r)**n - 1)\n",
        "        대출잔액 = 대출금\n",
        "\n",
        "        현금흐름 = [-자기자본]\n",
        "        세후이익목록 = []\n",
        "\n",
        "        for year in range(1, 보유기간+1):\n",
        "            if year > 1:\n",
        "                NOI *= (1 + NOI성장률)\n",
        "            이자 = 대출잔액 * r\n",
        "            원금 = 연간상환액 - 이자\n",
        "            대출잔액 -= 원금\n",
        "            과세소득 = NOI - 이자\n",
        "            세금 = 과세소득 * 법인세율\n",
        "            세후이익 = 과세소득 - 세금\n",
        "            연간현금 = 세후이익 - 원금\n",
        "            세후이익목록.append(세후이익)\n",
        "            현금흐름.append(연간현금)\n",
        "\n",
        "        # Exit\n",
        "        매각가 = NOI / ExitCapRate\n",
        "        매각차익 = 매각가 - 대출잔액\n",
        "        현금흐름[-1] += 매각차익\n",
        "\n",
        "        # IRR 계산\n",
        "        IRR = npf.irr(현금흐름)\n",
        "\n",
        "        # 결과 저장\n",
        "        결과.append({\n",
        "            \"LTV\": f\"{int(LTV*100)}%\",\n",
        "            \"Cap Rate\": f\"{int(CapRate*100)}%\",\n",
        "            \"자기자본(백만엔)\": round(자기자본/1e6, 2),\n",
        "            \"Exit 수익(백만엔)\": round(매각차익/1e6, 2),\n",
        "            \"IRR\": f\"{IRR*100:.2f}%\",\n",
        "            \"세후 연평균 배당률\": f\"{(np.mean(세후이익목록)/자기자본)*100:.2f}%\"\n",
        "        })\n",
        "\n",
        "# ===== DataFrame 변환 및 출력 =====\n",
        "df = pd.DataFrame(결과)\n",
        "print(df)"
      ],
      "metadata": {
        "colab": {
          "base_uri": "https://localhost:8080/"
        },
        "id": "TquHdhAcuWwa",
        "outputId": "38e739aa-f33b-4983-a5bf-c9485a473a23"
      },
      "execution_count": null,
      "outputs": [
        {
          "output_type": "stream",
          "name": "stdout",
          "text": [
            "Requirement already satisfied: numpy-financial in /usr/local/lib/python3.11/dist-packages (1.0.0)\n",
            "Requirement already satisfied: numpy>=1.15 in /usr/local/lib/python3.11/dist-packages (from numpy-financial) (2.0.2)\n",
            "   LTV Cap Rate  자기자본(백만엔)  Exit 수익(백만엔)     IRR 세후 연평균 배당률\n",
            "0  60%       3%      128.0        374.67  10.68%      4.23%\n",
            "1  60%       4%      128.0        350.81  11.23%      6.24%\n",
            "2  70%       3%       96.0        353.61  12.22%      5.24%\n",
            "3  70%       4%       96.0        329.75  12.94%      7.92%\n"
          ]
        }
      ]
    }
  ]
}