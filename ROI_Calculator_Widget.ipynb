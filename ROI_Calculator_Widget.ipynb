{
  "nbformat": 4,
  "nbformat_minor": 0,
  "metadata": {
    "colab": {
      "provenance": [],
      "authorship_tag": "ABX9TyNdVeaxILPQtKLFfvjHLTy9",
      "include_colab_link": true
    },
    "kernelspec": {
      "name": "python3",
      "display_name": "Python 3"
    },
    "language_info": {
      "name": "python"
    }
  },
  "cells": [
    {
      "cell_type": "markdown",
      "metadata": {
        "id": "view-in-github",
        "colab_type": "text"
      },
      "source": [
        "<a href=\"https://colab.research.google.com/github/tristan-quant/real-estate-simulation/blob/main/ROI_Calculator_Widget.ipynb\" target=\"_parent\"><img src=\"https://colab.research.google.com/assets/colab-badge.svg\" alt=\"Open In Colab\"/></a>"
      ]
    },
    {
      "cell_type": "code",
      "source": [
        "!pip install numpy-financial ipywidgets\n",
        "from ipywidgets import interact, FloatSlider, IntSlider\n",
        "import numpy as np\n",
        "import numpy_financial as npf\n",
        "import pandas as pd\n",
        "\n",
        "def 투자_시뮬레이션(매입가, LTV, CapRate, 대출이자율, 대출기간, 보유기간, 법인세율, NOI성장률, ExitCapRate조정):\n",
        "    대출금 = 매입가 * LTV\n",
        "    자기자본 = 매입가 - 대출금\n",
        "    NOI = 매입가 * CapRate\n",
        "    ExitCapRate = CapRate + ExitCapRate조정\n",
        "\n",
        "    # 원리금 균등상환\n",
        "    r = 대출이자율\n",
        "    n = 대출기간\n",
        "    연간상환액 = 대출금 * (r * (1 + r)**n) / ((1 + r)**n - 1)\n",
        "    대출잔액 = 대출금\n",
        "\n",
        "    현금흐름 = [-자기자본]\n",
        "    세후이익목록 = []\n",
        "\n",
        "    for year in range(1, 보유기간+1):\n",
        "        if year > 1:\n",
        "            NOI *= (1 + NOI성장률)\n",
        "        이자 = 대출잔액 * r\n",
        "        원금 = 연간상환액 - 이자\n",
        "        대출잔액 -= 원금\n",
        "        과세소득 = NOI - 이자\n",
        "        세금 = 과세소득 * 법인세율\n",
        "        세후이익 = 과세소득 - 세금\n",
        "        연간현금 = 세후이익 - 원금\n",
        "        세후이익목록.append(세후이익)\n",
        "        현금흐름.append(연간현금)\n",
        "\n",
        "    # Exit 계산\n",
        "    매각가 = NOI / ExitCapRate\n",
        "    매각차익 = 매각가 - 대출잔액\n",
        "    현금흐름[-1] += 매각차익\n",
        "\n",
        "    # IRR 계산\n",
        "    IRR = npf.irr(현금흐름)\n",
        "\n",
        "    # 결과 DataFrame\n",
        "    df = pd.DataFrame([{\n",
        "        \"자기자본(엔)\": int(자기자본),\n",
        "        \"Exit 수익(엔)\": int(매각차익),\n",
        "        \"IRR\": f\"{IRR*100:.2f}%\",\n",
        "        \"세후 연평균 배당률\": f\"{(np.mean(세후이익목록)/자기자본)*100:.2f}%\"\n",
        "    }])\n",
        "    display(df)\n",
        "\n",
        "# 위젯 실행\n",
        "interact(\n",
        "    투자_시뮬레이션,\n",
        "    매입가=IntSlider(value=320_000_000, min=50_000_000, max=1_000_000_000, step=10_000_000, description=\"매입가\"),\n",
        "    LTV=FloatSlider(value=0.6, min=0.3, max=0.9, step=0.05, description=\"LTV\"),\n",
        "    CapRate=FloatSlider(value=0.03, min=0.02, max=0.06, step=0.005, description=\"CapRate\"),\n",
        "    대출이자율=FloatSlider(value=0.02, min=0.005, max=0.05, step=0.001, description=\"이자율\"),\n",
        "    대출기간=IntSlider(value=25, min=5, max=35, step=1, description=\"대출기간\"),\n",
        "    보유기간=IntSlider(value=10, min=3, max=30, step=1, description=\"보유기간\"),\n",
        "    법인세율=FloatSlider(value=0.3, min=0.1, max=0.5, step=0.01, description=\"법인세율\"),\n",
        "    NOI성장률=FloatSlider(value=0.03, min=0.0, max=0.1, step=0.005, description=\"NOI성장\"),\n",
        "    ExitCapRate조정=FloatSlider(value=-0.005, min=-0.02, max=0.02, step=0.001, description=\"Exit조정\")\n",
        ")\n"
      ],
      "metadata": {
        "id": "UPTEXZri6ibF"
      },
      "execution_count": null,
      "outputs": []
    }
  ]
}